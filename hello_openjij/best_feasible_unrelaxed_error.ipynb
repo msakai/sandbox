{
 "cells": [
  {
   "cell_type": "code",
   "execution_count": 1,
   "id": "93848626-86d9-4db7-9af7-4c16a6555b23",
   "metadata": {},
   "outputs": [],
   "source": [
    "import numpy as np\n",
    "\n",
    "import jijmodeling as jm\n",
    "import ommx_openjij_adapter as oj_ad\n",
    "import openjij as oj"
   ]
  },
  {
   "cell_type": "code",
   "execution_count": 2,
   "id": "6e27093d-d2cc-42b9-8b57-03a43c37f1aa",
   "metadata": {},
   "outputs": [
    {
     "name": "stdout",
     "output_type": "stream",
     "text": [
      "1.12.3\n"
     ]
    }
   ],
   "source": [
    "print(jm.__version__)"
   ]
  },
  {
   "cell_type": "code",
   "execution_count": 3,
   "id": "6046c523-a615-4b9b-afc4-4ded8e96378d",
   "metadata": {},
   "outputs": [],
   "source": [
    "x = jm.BinaryVar('x', shape=(4,))\n",
    "problem = jm.Problem('example')\n",
    "problem += jm.Constraint('c', x[1] + x[2] + x[3] >= 2)"
   ]
  },
  {
   "cell_type": "code",
   "execution_count": 4,
   "id": "095df49b-8983-4719-acbd-0e9626324d40",
   "metadata": {},
   "outputs": [
    {
     "data": {
      "text/latex": [
       "$$\\begin{array}{cccc}\\text{Problem:} & \\text{example} & & \\\\& & \\min \\quad \\displaystyle 0 & \\\\\\text{{s.t.}} & & & \\\\ & \\text{c} & \\displaystyle x_{1} + x_{2} + x_{3} \\geq 2 &  \\\\\\text{{where}} & & & \\\\& x & 1\\text{-dim binary variable}\\\\\\end{array}$$"
      ],
      "text/plain": [
       "<jijmodeling.Problem at 0x12dd6dc00>"
      ]
     },
     "execution_count": 4,
     "metadata": {},
     "output_type": "execute_result"
    }
   ],
   "source": [
    "problem"
   ]
  },
  {
   "cell_type": "code",
   "execution_count": 5,
   "id": "49865c27-a196-4c0b-8684-a239c337b43d",
   "metadata": {},
   "outputs": [
    {
     "name": "stdout",
     "output_type": "stream",
     "text": [
      "10\n",
      "4.0\n"
     ]
    }
   ],
   "source": [
    "# compile\n",
    "instance = jm.Interpreter({}).eval_problem(problem)\n",
    "# get qubo model\n",
    "qubo, const = instance.to_qubo()\n",
    "print(len(qubo))\n",
    "print(const)"
   ]
  },
  {
   "cell_type": "code",
   "execution_count": 6,
   "id": "9a291291-2d99-45f2-adb4-d1869c6de462",
   "metadata": {},
   "outputs": [],
   "source": [
    "# set sampler\n",
    "sampler = oj.SASampler()\n",
    "# solve problem\n",
    "result = sampler.sample_qubo(qubo, num_reads=100)"
   ]
  },
  {
   "cell_type": "code",
   "execution_count": 7,
   "id": "0b91fe85-5746-41d2-b18f-c953dd413357",
   "metadata": {},
   "outputs": [
    {
     "ename": "RuntimeError",
     "evalue": "Missing value for decision_variable with ID=0",
     "output_type": "error",
     "traceback": [
      "\u001b[31m---------------------------------------------------------------------------\u001b[39m",
      "\u001b[31mRuntimeError\u001b[39m                              Traceback (most recent call last)",
      "\u001b[36mCell\u001b[39m\u001b[36m \u001b[39m\u001b[32mIn[7]\u001b[39m\u001b[32m, line 6\u001b[39m\n\u001b[32m      2\u001b[39m sampleset = adapter.decode_to_sampleset(result)\n\u001b[32m      4\u001b[39m \u001b[38;5;66;03m# decode a result to JijModeling sampleset\u001b[39;00m\n\u001b[32m      5\u001b[39m \u001b[38;5;66;03m# get feasible samples from sampleset\u001b[39;00m\n\u001b[32m----> \u001b[39m\u001b[32m6\u001b[39m feasible_sample = \u001b[43msampleset\u001b[49m\u001b[43m.\u001b[49m\u001b[43mbest_feasible_unrelaxed\u001b[49m\u001b[43m(\u001b[49m\u001b[43m)\u001b[49m\n",
      "\u001b[36mFile \u001b[39m\u001b[32m~/src/test_jij/.venv/lib/python3.11/site-packages/ommx/v1/__init__.py:3381\u001b[39m, in \u001b[36mSampleSet.best_feasible_unrelaxed\u001b[39m\u001b[34m(self)\u001b[39m\n\u001b[32m   3375\u001b[39m \u001b[38;5;28;01mdef\u001b[39;00m\u001b[38;5;250m \u001b[39m\u001b[34mbest_feasible_unrelaxed\u001b[39m(\u001b[38;5;28mself\u001b[39m) -> Solution:\n\u001b[32m   3376\u001b[39m \u001b[38;5;250m    \u001b[39m\u001b[33;03m\"\"\"\u001b[39;00m\n\u001b[32m   3377\u001b[39m \u001b[33;03m    Get the best feasible solution without relaxation\u001b[39;00m\n\u001b[32m   3378\u001b[39m \u001b[33;03m    \"\"\"\u001b[39;00m\n\u001b[32m   3379\u001b[39m     solution = \u001b[43m_ommx_rust\u001b[49m\u001b[43m.\u001b[49m\u001b[43mSampleSet\u001b[49m\u001b[43m.\u001b[49m\u001b[43mfrom_bytes\u001b[49m\u001b[43m(\u001b[49m\n\u001b[32m   3380\u001b[39m \u001b[43m        \u001b[49m\u001b[38;5;28;43mself\u001b[39;49m\u001b[43m.\u001b[49m\u001b[43mto_bytes\u001b[49m\u001b[43m(\u001b[49m\u001b[43m)\u001b[49m\n\u001b[32m-> \u001b[39m\u001b[32m3381\u001b[39m \u001b[43m    \u001b[49m\u001b[43m)\u001b[49m\u001b[43m.\u001b[49m\u001b[43mbest_feasible_unrelaxed\u001b[49m\u001b[43m(\u001b[49m\u001b[43m)\u001b[49m\n\u001b[32m   3382\u001b[39m     \u001b[38;5;28;01mreturn\u001b[39;00m Solution.from_bytes(solution.to_bytes())\n",
      "\u001b[31mRuntimeError\u001b[39m: Missing value for decision_variable with ID=0"
     ]
    }
   ],
   "source": [
    "adapter = oj_ad.OMMXOpenJijSAAdapter(instance)\n",
    "sampleset = adapter.decode_to_sampleset(result)\n",
    "\n",
    "# decode a result to JijModeling sampleset\n",
    "# get feasible samples from sampleset\n",
    "feasible_sample = sampleset.best_feasible_unrelaxed()"
   ]
  },
  {
   "cell_type": "code",
   "execution_count": null,
   "id": "492f8204-0978-417f-8fc3-92b9a1b7178c",
   "metadata": {},
   "outputs": [],
   "source": [
    "feasible_sample.extract_decision_variables(\"x\")"
   ]
  },
  {
   "cell_type": "code",
   "execution_count": null,
   "id": "c59c659d-bd06-4a24-832d-7ca36d2d32cf",
   "metadata": {},
   "outputs": [],
   "source": []
  }
 ],
 "metadata": {
  "kernelspec": {
   "display_name": "Python 3 (ipykernel)",
   "language": "python",
   "name": "python3"
  },
  "language_info": {
   "codemirror_mode": {
    "name": "ipython",
    "version": 3
   },
   "file_extension": ".py",
   "mimetype": "text/x-python",
   "name": "python",
   "nbconvert_exporter": "python",
   "pygments_lexer": "ipython3",
   "version": "3.11.11"
  }
 },
 "nbformat": 4,
 "nbformat_minor": 5
}
